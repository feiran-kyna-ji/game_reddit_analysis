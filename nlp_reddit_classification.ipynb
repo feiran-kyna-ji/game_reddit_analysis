{
 "cells": [
  {
   "cell_type": "code",
   "execution_count": 190,
   "metadata": {},
   "outputs": [
    {
     "name": "stdout",
     "output_type": "stream",
     "text": [
      "The autoreload extension is already loaded. To reload it, use:\n",
      "  %reload_ext autoreload\n"
     ]
    }
   ],
   "source": [
    "import numpy as np\n",
    "import pandas as pd\n",
    "import datetime \n",
    "import matplotlib\n",
    "import matplotlib.pyplot as plt\n",
    "import re\n",
    "\n",
    "from collections import Counter\n",
    "from pprint import pprint\n",
    "from nltk.corpus import stopwords\n",
    "from sklearn.cross_validation import train_test_split\n",
    "from sklearn.feature_extraction.text import CountVectorizer, TfidfTransformer\n",
    "from sklearn import metrics\n",
    "from sklearn.metrics import confusion_matrix, accuracy_score, precision_score, recall_score, f1_score\n",
    "from sklearn.ensemble import GradientBoostingClassifier, RandomForestClassifier\n",
    "from sklearn.linear_model import LogisticRegression, SGDClassifier\n",
    "from sklearn.pipeline import Pipeline\n",
    "from sklearn.model_selection import GridSearchCV, RandomizedSearchCV\n",
    "from sklearn.naive_bayes import MultinomialNB\n",
    "\n",
    "%matplotlib inline\n",
    "%load_ext autoreload\n",
    "%autoreload 2"
   ]
  },
  {
   "cell_type": "markdown",
   "metadata": {},
   "source": [
    "# Classification of Popular Post on Rainbow 6 Siege Subreddit"
   ]
  },
  {
   "cell_type": "markdown",
   "metadata": {},
   "source": [
    "Our main steps:\n",
    "1. Extract data from google Bigquery\n",
    "2. Use the bag of words model (unigram, bigram) to predict popularity. We will get some insight about which words / bigrams make popular posts.\n",
    "3. Use word2vec model. We can compare the accuracy, but it's hard to get insight from word2vec model. \n",
    "\n",
    "Some concerns that we need to watch out:\n",
    "1. There are a lot of picture/video posts. We are not able to distinguish them. Here I will filter out posts with less than 25 words.\n",
    "2. Reddit posts are not simple English. There are a lot of internet languages and special word in the domain. \n"
   ]
  },
  {
   "cell_type": "markdown",
   "metadata": {},
   "source": [
    "## Aquire Data\n",
    "We used data from 2015 to 2018.2 in a Google BigQuery database: https://bigquery.cloud.google.com/dataset/fh-bigquery:reddit_posts"
   ]
  },
  {
   "cell_type": "markdown",
   "metadata": {},
   "source": [
    "## Explore dataset"
   ]
  },
  {
   "cell_type": "code",
   "execution_count": 161,
   "metadata": {},
   "outputs": [
    {
     "name": "stderr",
     "output_type": "stream",
     "text": [
      "/home/fji/anaconda3/lib/python3.6/site-packages/IPython/core/interactiveshell.py:2728: DtypeWarning: Columns (11,28,30,32) have mixed types. Specify dtype option on import or set low_memory=False.\n",
      "  interactivity=interactivity, compiler=compiler, result=result)\n"
     ]
    },
    {
     "data": {
      "text/plain": [
       "(478460, 33)"
      ]
     },
     "execution_count": 161,
     "metadata": {},
     "output_type": "execute_result"
    }
   ],
   "source": [
    "r6s = pd.read_csv('r6s_post_from_2015.csv', parse_dates= ['created_utc'])\n",
    "r6s.shape"
   ]
  },
  {
   "cell_type": "markdown",
   "metadata": {},
   "source": [
    "From 2015 to 2018.2, there are 478,460 posts in [Rainbow 6 subreddit](https://www.reddit.com/r/Rainbow6/). That's huge, let's subset 3 months' posts (2017.12 - 2018.2) because we care more about recent popular posts. There are 33 columns, and we will only keep the columns we need for this analysis. "
   ]
  },
  {
   "cell_type": "code",
   "execution_count": 162,
   "metadata": {
    "scrolled": true
   },
   "outputs": [],
   "source": [
    "# choose the columns we need \n",
    "r6s = r6s[['created_utc', 'num_comments', 'score', 'title', 'selftext']]\n",
    "r6s['created'] = pd.to_datetime(r6s['created_utc'],unit='s')\n",
    "r6s = r6s[r6s['created']>datetime.date(2017,12,1)]"
   ]
  },
  {
   "cell_type": "code",
   "execution_count": 163,
   "metadata": {},
   "outputs": [
    {
     "data": {
      "text/plain": [
       "(85138, 6)"
      ]
     },
     "execution_count": 163,
     "metadata": {},
     "output_type": "execute_result"
    }
   ],
   "source": [
    "r6s.shape"
   ]
  },
  {
   "cell_type": "markdown",
   "metadata": {},
   "source": [
    "We have 85,138 posts from 2017.12 to 2018.2. After exploring the data, we will do following steps in preprocessing:  \n",
    "1. Delete `\"[removed]\"` , `\"[deleted]\"` posts. \n",
    "2. Drop the posts where their content is less than 50 words, because maybe those posts are non-text (picture, video), and will influence our model in a negative way."
   ]
  },
  {
   "cell_type": "code",
   "execution_count": 164,
   "metadata": {},
   "outputs": [
    {
     "data": {
      "text/plain": [
       "(29070, 6)"
      ]
     },
     "execution_count": 164,
     "metadata": {},
     "output_type": "execute_result"
    }
   ],
   "source": [
    "r6s = r6s[~r6s['selftext'].isin(['[removed]','[deleted]'])]\n",
    "r6s = r6s.dropna(subset=['title','selftext']) # drop when the content is null\n",
    "r6s = r6s[r6s['selftext'].str.len() > 50]\n",
    "r6s.shape"
   ]
  },
  {
   "cell_type": "code",
   "execution_count": 165,
   "metadata": {
    "scrolled": false
   },
   "outputs": [
    {
     "data": {
      "text/html": [
       "<div>\n",
       "<style scoped>\n",
       "    .dataframe tbody tr th:only-of-type {\n",
       "        vertical-align: middle;\n",
       "    }\n",
       "\n",
       "    .dataframe tbody tr th {\n",
       "        vertical-align: top;\n",
       "    }\n",
       "\n",
       "    .dataframe thead th {\n",
       "        text-align: right;\n",
       "    }\n",
       "</style>\n",
       "<table border=\"1\" class=\"dataframe\">\n",
       "  <thead>\n",
       "    <tr style=\"text-align: right;\">\n",
       "      <th></th>\n",
       "      <th>created_utc</th>\n",
       "      <th>num_comments</th>\n",
       "      <th>score</th>\n",
       "      <th>title</th>\n",
       "      <th>selftext</th>\n",
       "      <th>created</th>\n",
       "    </tr>\n",
       "  </thead>\n",
       "  <tbody>\n",
       "    <tr>\n",
       "      <th>17865</th>\n",
       "      <td>1518307810</td>\n",
       "      <td>12</td>\n",
       "      <td>0</td>\n",
       "      <td>The problem that is ruining ranked multiplayer...</td>\n",
       "      <td>So let's allow people to make as many fucking ...</td>\n",
       "      <td>2018-02-11 00:10:10</td>\n",
       "    </tr>\n",
       "    <tr>\n",
       "      <th>17866</th>\n",
       "      <td>1518308520</td>\n",
       "      <td>9</td>\n",
       "      <td>2</td>\n",
       "      <td>Jackal,Buck,Blackbeard or Capitão</td>\n",
       "      <td>Rank the following attackers from best to wors...</td>\n",
       "      <td>2018-02-11 00:22:00</td>\n",
       "    </tr>\n",
       "    <tr>\n",
       "      <th>17867</th>\n",
       "      <td>1518308758</td>\n",
       "      <td>2</td>\n",
       "      <td>0</td>\n",
       "      <td>Vigil's elite animation</td>\n",
       "      <td>He should disappear and then make his team dis...</td>\n",
       "      <td>2018-02-11 00:25:58</td>\n",
       "    </tr>\n",
       "    <tr>\n",
       "      <th>17868</th>\n",
       "      <td>1518309049</td>\n",
       "      <td>4</td>\n",
       "      <td>2</td>\n",
       "      <td>What Channel do we need to watch on Twitch for...</td>\n",
       "      <td>I linked my Twitch and Ubisoft account and I w...</td>\n",
       "      <td>2018-02-11 00:30:49</td>\n",
       "    </tr>\n",
       "    <tr>\n",
       "      <th>17870</th>\n",
       "      <td>1518309364</td>\n",
       "      <td>0</td>\n",
       "      <td>0</td>\n",
       "      <td>Fast gunfight and daily content</td>\n",
       "      <td>Hello guys, I was brazilian pro player for San...</td>\n",
       "      <td>2018-02-11 00:36:04</td>\n",
       "    </tr>\n",
       "  </tbody>\n",
       "</table>\n",
       "</div>"
      ],
      "text/plain": [
       "      created_utc  num_comments  score  \\\n",
       "17865  1518307810            12      0   \n",
       "17866  1518308520             9      2   \n",
       "17867  1518308758             2      0   \n",
       "17868  1518309049             4      2   \n",
       "17870  1518309364             0      0   \n",
       "\n",
       "                                                   title  \\\n",
       "17865  The problem that is ruining ranked multiplayer...   \n",
       "17866                  Jackal,Buck,Blackbeard or Capitão   \n",
       "17867                            Vigil's elite animation   \n",
       "17868  What Channel do we need to watch on Twitch for...   \n",
       "17870                    Fast gunfight and daily content   \n",
       "\n",
       "                                                selftext             created  \n",
       "17865  So let's allow people to make as many fucking ... 2018-02-11 00:10:10  \n",
       "17866  Rank the following attackers from best to wors... 2018-02-11 00:22:00  \n",
       "17867  He should disappear and then make his team dis... 2018-02-11 00:25:58  \n",
       "17868  I linked my Twitch and Ubisoft account and I w... 2018-02-11 00:30:49  \n",
       "17870  Hello guys, I was brazilian pro player for San... 2018-02-11 00:36:04  "
      ]
     },
     "execution_count": 165,
     "metadata": {},
     "output_type": "execute_result"
    }
   ],
   "source": [
    "r6s.head()"
   ]
  },
  {
   "cell_type": "code",
   "execution_count": null,
   "metadata": {},
   "outputs": [],
   "source": [
    "pandas_profiling.ProfileReport(r6s)"
   ]
  },
  {
   "cell_type": "markdown",
   "metadata": {},
   "source": [
    "Following are some interesting facts we found after doing some investigation of the dataset.   \n",
    "** Summary of dataset **  \n",
    "1. From 2017.8 to 2018.2, after filtering, we have 29070 posts left. \n",
    "2. In `num_comments`, there are 8.6% zeros (8.6% of the posts have 0 comments). This variable is highly skewed, see histogram below.\n",
    "3. In `score`, there are 23.1% zeros. (Score is upvote - downvote, so this means 23.1% of the posts in our dataset have same number of upvotes and downvotes. I assume most of them have no votes.)\n",
    "4. num_comments and score are positively correlated. "
   ]
  },
  {
   "cell_type": "code",
   "execution_count": 166,
   "metadata": {},
   "outputs": [
    {
     "data": {
      "text/plain": [
       "0.6792174778158041"
      ]
     },
     "execution_count": 166,
     "metadata": {},
     "output_type": "execute_result"
    }
   ],
   "source": [
    "# correlation between score and num_comments\n",
    "r6s['score'].corr(r6s['num_comments'])"
   ]
  },
  {
   "cell_type": "code",
   "execution_count": 167,
   "metadata": {},
   "outputs": [
    {
     "data": {
      "text/plain": [
       "(0, 50)"
      ]
     },
     "execution_count": 167,
     "metadata": {},
     "output_type": "execute_result"
    },
    {
     "data": {
      "image/png": "[encoded data removed]",
      "text/plain": [
       "<matplotlib.figure.Figure at 0x7fcc0afa9048>"
      ]
     },
     "metadata": {},
     "output_type": "display_data"
    }
   ],
   "source": [
    "# histogram of num_comments\n",
    "plt = r6s.num_comments.hist(bins = 1000)\n",
    "plt.set_xlim(0,50)"
   ]
  },
  {
   "cell_type": "code",
   "execution_count": 168,
   "metadata": {
    "scrolled": true
   },
   "outputs": [
    {
     "data": {
      "text/plain": [
       "(0, 50)"
      ]
     },
     "execution_count": 168,
     "metadata": {},
     "output_type": "execute_result"
    },
    {
     "data": {
      "image/png": "[encoded data removed]",
      "text/plain": [
       "<matplotlib.figure.Figure at 0x7fcc2bab94e0>"
      ]
     },
     "metadata": {},
     "output_type": "display_data"
    }
   ],
   "source": [
    "# histogram of score\n",
    "plt = r6s.score.hist(bins = 10000)\n",
    "plt.set_xlim(0,50)"
   ]
  },
  {
   "cell_type": "code",
   "execution_count": 169,
   "metadata": {},
   "outputs": [
    {
     "data": {
      "text/plain": [
       "<matplotlib.axes._subplots.AxesSubplot at 0x7fcc701425c0>"
      ]
     },
     "execution_count": 169,
     "metadata": {},
     "output_type": "execute_result"
    },
    {
     "data": {
      "image/png": "[encoded data removed]",
      "text/plain": [
       "<matplotlib.figure.Figure at 0x7fcc701560b8>"
      ]
     },
     "metadata": {},
     "output_type": "display_data"
    }
   ],
   "source": [
    "# num_comments along the time\n",
    "r6s.groupby('created')['num_comments'].sum().plot()"
   ]
  },
  {
   "cell_type": "code",
   "execution_count": 170,
   "metadata": {},
   "outputs": [
    {
     "data": {
      "text/plain": [
       "9.419539043687651"
      ]
     },
     "execution_count": 170,
     "metadata": {},
     "output_type": "execute_result"
    }
   ],
   "source": [
    "# add response variable\n",
    "r6s.num_comments.mean()"
   ]
  },
  {
   "cell_type": "code",
   "execution_count": 171,
   "metadata": {},
   "outputs": [],
   "source": [
    "r6s['popular'] = r6s.num_comments>10"
   ]
  },
  {
   "cell_type": "code",
   "execution_count": 172,
   "metadata": {},
   "outputs": [
    {
     "data": {
      "text/plain": [
       "False    23602\n",
       "True      5468\n",
       "Name: popular, dtype: int64"
      ]
     },
     "execution_count": 172,
     "metadata": {},
     "output_type": "execute_result"
    }
   ],
   "source": [
    "r6s['popular'].value_counts()"
   ]
  },
  {
   "cell_type": "markdown",
   "metadata": {},
   "source": [
    "**Choose response variable:**  \n",
    "To know if a post is popular or not, we can use the number of comments or score(upvote - downvote) to calculate. \n",
    "It would be better if we can use upvote + downvote because we want to get the popular posts instead of posts that people agree with. If we use (upvote - downvote) maybe some controversial posts will have a lower score. In this sense, the number of comment might be a better proxy response for popularity. Since num_comments and score are positively correlated, so num_comment can represent some information of the score.\n",
    "\n",
    "Here, I use a binary variable \"popular\" as our target variable, because it's easier to see how the model performs using classification. I set of a threshold of 10, because the mean of num_comment is 9.41, so \"popular\" here means have a more than average num_comments. There is a class imbalance here because our num_comments is skewed and fewer posts have more than 10 comments. Thus, for our models, we decide to:\n",
    "1. use the F1 score to evaluate the classification model, also see the precision and recall for insights.\n",
    "2. try different threshold in predicted probability for classification."
   ]
  },
  {
   "cell_type": "markdown",
   "metadata": {},
   "source": [
    "## Posts to word list\n",
    "\n",
    "To tokenize words, we remove all non-letters, convert words to lower case  and split them. We removed stop words because it might be distractful for our classification. "
   ]
  },
  {
   "cell_type": "code",
   "execution_count": 173,
   "metadata": {},
   "outputs": [],
   "source": [
    "def post_to_wordlist(post_text, remove_stopwords=False):\n",
    "    # remove non-letters\n",
    "    post_text = re.sub(\"[^a-zA-Z]\",\" \", post_text)\n",
    "    # convert words to lower case and split them\n",
    "    words = post_text.lower().split()\n",
    "    # remove stop words (false by default)\n",
    "    if remove_stopwords:\n",
    "        stops = set(stopwords.words(\"english\"))\n",
    "        words = [w for w in words if not w in stops]\n",
    "    # return a list of words\n",
    "    return(words)\n",
    "\n",
    "post_list = [post_to_wordlist(p, remove_stopwords=True) for p in np.array(r6s.selftext)]"
   ]
  },
  {
   "cell_type": "code",
   "execution_count": 174,
   "metadata": {},
   "outputs": [],
   "source": [
    "word_list = []\n",
    "for post in post_list:\n",
    "    for word in post:\n",
    "        word_list.append(word)"
   ]
  },
  {
   "cell_type": "code",
   "execution_count": 175,
   "metadata": {},
   "outputs": [
    {
     "name": "stdout",
     "output_type": "stream",
     "text": [
      "[('game', 18443),\n",
      " ('like', 11263),\n",
      " ('get', 10976),\n",
      " ('would', 10079),\n",
      " ('one', 7343),\n",
      " ('play', 7190),\n",
      " ('know', 6546),\n",
      " ('team', 5963),\n",
      " ('people', 5740),\n",
      " ('time', 5494)]\n"
     ]
    }
   ],
   "source": [
    "counts = Counter(word_list)\n",
    "pprint(counts.most_common(10))"
   ]
  },
  {
   "cell_type": "markdown",
   "metadata": {},
   "source": [
    "Not surprising, game is the most frequent word in Rainbow6 subreddit. "
   ]
  },
  {
   "cell_type": "markdown",
   "metadata": {},
   "source": [
    "## Models\n",
    "Here, we chose countvectorizer as our vectorizing technique because we want to have more insights about which words are important in classifying popular and non-popular posts. "
   ]
  },
  {
   "cell_type": "markdown",
   "metadata": {},
   "source": [
    "### Create Train and Test Dataset"
   ]
  },
  {
   "cell_type": "code",
   "execution_count": 176,
   "metadata": {},
   "outputs": [],
   "source": [
    "X_train, X_test, y_train,y_test = train_test_split(post_list,\n",
    "                                                   np.array(r6s[\"popular\"]),train_size=0.8,random_state=42)"
   ]
  },
  {
   "cell_type": "code",
   "execution_count": 177,
   "metadata": {},
   "outputs": [],
   "source": [
    "clean_X_train = []\n",
    "for i in range(0, len(X_train)):\n",
    "    clean_X_train.append(\" \".join(X_train[i]))\n",
    "\n",
    "clean_X_test = []\n",
    "for i in range(0, len(X_test)):\n",
    "    clean_X_test.append(\" \".join(X_train[i]))\n",
    "    \n",
    "def create_dataset_train(X):\n",
    "    clean_X = []\n",
    "    for i in range(0, len(X)):\n",
    "        clean_X.append(\" \".join(X[i]))\n",
    "    vectorizer = CountVectorizer(analyzer = \"word\", tokenizer = None, preprocessor = None, stop_words = None, max_features = 5000)\n",
    "    data_features = vectorizer.fit_transform(clean_X)\n",
    "    data_features = data_features.toarray()\n",
    "    col_names = vectorizer.get_feature_names()\n",
    "    return data_features, col_names, vectorizer\n",
    "\n",
    "train_data_features, col_names, vectorizer = create_dataset_train(X_train)\n",
    "\n",
    "def create_dataset_test(X, vectorizer):\n",
    "    clean_X = []\n",
    "    for i in range(0, len(X)):\n",
    "        clean_X.append(\" \".join(X[i]))\n",
    "    data_features = vectorizer.transform(clean_X)\n",
    "    data_features = data_features.toarray()\n",
    "    return data_features\n",
    "\n",
    "test_data_features = create_dataset_test(X_test, vectorizer)"
   ]
  },
  {
   "cell_type": "code",
   "execution_count": 229,
   "metadata": {},
   "outputs": [],
   "source": [
    "def report_score(y_test, y_fit, threshold = 0.2, proba=True):\n",
    "    if proba:\n",
    "        y_fit = [p[1] > threshold for p in y_fit]\n",
    "    prec = round(precision_score(y_test, y_fit),3)\n",
    "    recall = round(recall_score(y_test, y_fit),3)\n",
    "    f1 = round(f1_score(y_test, y_fit),3)\n",
    "    print('precision:  ', prec)\n",
    "    print('recall:     ', recall)\n",
    "    print('f1:         ', f1)\n",
    "    conf = pd.DataFrame(confusion_matrix(y_true=y_test, y_pred=y_fit))\n",
    "    conf.columns.name = \"True\\Predicted\"\n",
    "    print(conf)"
   ]
  },
  {
   "cell_type": "markdown",
   "metadata": {},
   "source": [
    "### 1. Logistic Regression"
   ]
  },
  {
   "cell_type": "markdown",
   "metadata": {},
   "source": [
    "#### Base model"
   ]
  },
  {
   "cell_type": "code",
   "execution_count": 230,
   "metadata": {},
   "outputs": [],
   "source": [
    "def text_classifcation(clf: Pipeline, X_train, X_test, y_train, y_test, proba = True, thres = 0.2):\n",
    "    \"Helper function wrapping the Pipeline.\"\n",
    "    clf.fit(X_train, y_train) \n",
    "    if proba:\n",
    "        y_fit_proba = clf.predict_proba(X_test)\n",
    "        report_score(y_test, y_fit_proba, threshold = thres)\n",
    "    else:\n",
    "        y_fit = clf.predict(X_test)\n",
    "        report_score(y_test, y_fit, proba = False)"
   ]
  },
  {
   "cell_type": "code",
   "execution_count": 231,
   "metadata": {},
   "outputs": [
    {
     "name": "stdout",
     "output_type": "stream",
     "text": [
      "precision:   0.182\n",
      "recall:      0.353\n",
      "f1:          0.241\n",
      "True\\Predicted     0     1\n",
      "0               2970  1743\n",
      "1                712   389\n"
     ]
    }
   ],
   "source": [
    "lr_pipe = Pipeline([('vect', CountVectorizer()),\n",
    "                     ('tfidf', TfidfTransformer()),\n",
    "                     ('lr', LogisticRegression())])\n",
    "\n",
    "text_classifcation(lr_pipe, clean_X_train, clean_X_test, y_train, y_test, thres = 0.2)"
   ]
  },
  {
   "cell_type": "markdown",
   "metadata": {},
   "source": [
    "#### Parameter Tuning"
   ]
  },
  {
   "cell_type": "code",
   "execution_count": 181,
   "metadata": {},
   "outputs": [
    {
     "data": {
      "text/plain": [
       "GridSearchCV(cv=None, error_score='raise',\n",
       "       estimator=Pipeline(memory=None,\n",
       "     steps=[('vect', CountVectorizer(analyzer='word', binary=False, decode_error='strict',\n",
       "        dtype=<class 'numpy.int64'>, encoding='utf-8', input='content',\n",
       "        lowercase=True, max_df=1.0, max_features=None, min_df=1,\n",
       "        ngram_range=(1, 1), preprocessor=None, stop_words=None,\n",
       "        strip...ty='l2', random_state=None, solver='liblinear', tol=0.0001,\n",
       "          verbose=0, warm_start=False))]),\n",
       "       fit_params=None, iid=True, n_jobs=-1,\n",
       "       param_grid={'vect__ngram_range': [(1, 1), (1, 2)], 'vect__min_df': (1e-05, 0.0001, 0.001, 0.01, 0.1), 'vect__stop_words': (None, 'english'), 'tfidf__use_idf': (True, False), 'lr__penalty': ['l1', 'l2'], 'lr__C': [1.0, 10.0, 100.0]},\n",
       "       pre_dispatch='2*n_jobs', refit=True, return_train_score='warn',\n",
       "       scoring=None, verbose=0)"
      ]
     },
     "execution_count": 181,
     "metadata": {},
     "output_type": "execute_result"
    }
   ],
   "source": [
    "# Since LR doesn't take too long time to fit, we use a grid search to find optimal parameters. \n",
    "\n",
    "parameters_lr = {'vect__ngram_range': [(1, 1), (1, 2)],\n",
    "                 'vect__min_df': (1e-5, 1e-4, 1e-3, 1e-2, 1e-1),\n",
    "                 'vect__stop_words': (None, 'english'),\n",
    "                 'tfidf__use_idf': (True, False),\n",
    "                 'lr__penalty': ['l1', 'l2'],\n",
    "                 'lr__C': [1.0, 10.0, 100.0]\n",
    "}\n",
    "\n",
    "lr_grid = GridSearchCV(lr_pipe, parameters_lr, n_jobs=-1)\n",
    "\n",
    "lr_grid.fit(clean_X_train, y_train)"
   ]
  },
  {
   "cell_type": "code",
   "execution_count": 212,
   "metadata": {},
   "outputs": [
    {
     "data": {
      "text/plain": [
       "{'lr__C': 1.0,\n",
       " 'lr__penalty': 'l2',\n",
       " 'tfidf__use_idf': True,\n",
       " 'vect__min_df': 0.0001,\n",
       " 'vect__ngram_range': (1, 1),\n",
       " 'vect__stop_words': None}"
      ]
     },
     "execution_count": 212,
     "metadata": {},
     "output_type": "execute_result"
    }
   ],
   "source": [
    "lr_grid.best_params_"
   ]
  },
  {
   "cell_type": "code",
   "execution_count": 213,
   "metadata": {},
   "outputs": [
    {
     "name": "stdout",
     "output_type": "stream",
     "text": [
      "precision:   0.183\n",
      "recall:      0.357\n",
      "f1:          0.242\n",
      "True\\Predicted     0     1\n",
      "0               2954  1759\n",
      "1                708   393\n"
     ]
    }
   ],
   "source": [
    "y_fit = lr_grid.predict_proba(clean_X_test)\n",
    "report_score(y_test, y_fit, threshold = 0.20, proba=True)"
   ]
  },
  {
   "cell_type": "markdown",
   "metadata": {},
   "source": [
    "After tuning parameter, F1 score increased a little bit. It's still not very good though. "
   ]
  },
  {
   "cell_type": "markdown",
   "metadata": {},
   "source": [
    "#### PR Curve"
   ]
  },
  {
   "cell_type": "code",
   "execution_count": 192,
   "metadata": {},
   "outputs": [],
   "source": [
    "def p_r_curve(y_true, y_fit):\n",
    "    precision, recall, _ = metrics.precision_recall_curve(y_true, y_fit)\n",
    "    plt.step(recall, precision, color='b', alpha=0.8,\n",
    "             where='post')\n",
    "    plt.axhline(y=0.064, ls='--', alpha=0.8)\n",
    "    plt.grid()\n",
    "    plt.xlabel('recall')\n",
    "    plt.ylabel('precision')"
   ]
  },
  {
   "cell_type": "code",
   "execution_count": 193,
   "metadata": {},
   "outputs": [
    {
     "data": {
      "image/png": "[encoded data removed]",
      "text/plain": [
       "<matplotlib.figure.Figure at 0x7fcc4b985f98>"
      ]
     },
     "metadata": {},
     "output_type": "display_data"
    }
   ],
   "source": [
    "p_r_curve(y_test, y_fit[:,1])"
   ]
  },
  {
   "cell_type": "markdown",
   "metadata": {},
   "source": [
    "The PR curve seems unstable and shows that the logistic model is not very promising here."
   ]
  },
  {
   "cell_type": "markdown",
   "metadata": {},
   "source": [
    "### 2. Random Forest Model"
   ]
  },
  {
   "cell_type": "markdown",
   "metadata": {},
   "source": [
    "#### Base Model"
   ]
  },
  {
   "cell_type": "code",
   "execution_count": 232,
   "metadata": {},
   "outputs": [],
   "source": [
    "rf = RandomForestClassifier(n_estimators = 10)\n",
    "rf = rf.fit(train_data_features, y_train)"
   ]
  },
  {
   "cell_type": "code",
   "execution_count": 233,
   "metadata": {},
   "outputs": [],
   "source": [
    "y_fit_proba = rf.predict_proba(test_data_features)"
   ]
  },
  {
   "cell_type": "code",
   "execution_count": 234,
   "metadata": {
    "scrolled": true
   },
   "outputs": [
    {
     "name": "stdout",
     "output_type": "stream",
     "text": [
      "precision:   0.315\n",
      "recall:      0.277\n",
      "f1:          0.295\n",
      "True\\Predicted     0    1\n",
      "0               4050  663\n",
      "1                796  305\n"
     ]
    }
   ],
   "source": [
    "report_score(y_test, y_fit_proba, 0.3)"
   ]
  },
  {
   "cell_type": "markdown",
   "metadata": {},
   "source": [
    "The baseline model seems better than logistic regression. Let's do some parameter tuning :)"
   ]
  },
  {
   "cell_type": "markdown",
   "metadata": {},
   "source": [
    "#### Parameter Tuning"
   ]
  },
  {
   "cell_type": "code",
   "execution_count": null,
   "metadata": {},
   "outputs": [],
   "source": [
    "# here, we use a randomized search because RF takes a long time to fit. \n",
    "\n",
    "# parameter tuning\n",
    "param_dist = {\"max_features\": [0.3,0.7,None],\n",
    "             \"min_samples_leaf\": [1,5,10,25],\n",
    "             \"n_estimators\": [10, 50, 100]}\n",
    "\n",
    "# run randomized search\n",
    "n_iter_search = 10 \n",
    "rf = RandomForestClassifier()\n",
    "rf_random_search = RandomizedSearchCV(rf, param_distributions=param_dist,\n",
    "                                   n_iter=n_iter_search)\n",
    "rf_random_search.fit(train_data_features, y_train)"
   ]
  },
  {
   "cell_type": "markdown",
   "metadata": {},
   "source": [
    "Unfortunately, above code works fine on 1 month data but took too long to run on 3 months. If I have time, I might run it on AWS. Here, I will arbitrarily chose some parameters that make sense. "
   ]
  },
  {
   "cell_type": "code",
   "execution_count": 235,
   "metadata": {},
   "outputs": [],
   "source": [
    "rf = RandomForestClassifier(n_estimators = 50, min_samples_leaf = 3)\n",
    "rf = rf.fit(train_data_features, y_train)"
   ]
  },
  {
   "cell_type": "code",
   "execution_count": 236,
   "metadata": {},
   "outputs": [
    {
     "name": "stdout",
     "output_type": "stream",
     "text": [
      "precision:   0.275\n",
      "recall:      0.598\n",
      "f1:          0.377\n",
      "True\\Predicted     0     1\n",
      "0               2980  1733\n",
      "1                443   658\n"
     ]
    }
   ],
   "source": [
    "y_fit = rf.predict_proba(test_data_features)\n",
    "report_score(y_test, y_fit, threshold = 0.2, proba=True)"
   ]
  },
  {
   "cell_type": "markdown",
   "metadata": {},
   "source": [
    "This seems much better. Precision is a little bit low but it is not too bad. Let's see what are the most important words in this RF model."
   ]
  },
  {
   "cell_type": "markdown",
   "metadata": {},
   "source": [
    "#### PR Curve"
   ]
  },
  {
   "cell_type": "code",
   "execution_count": 274,
   "metadata": {},
   "outputs": [
    {
     "data": {
      "image/png": "[encoded data removed]",
      "text/plain": [
       "<matplotlib.figure.Figure at 0x7fcc46fa7080>"
      ]
     },
     "metadata": {},
     "output_type": "display_data"
    }
   ],
   "source": [
    "p_r_curve(y_test, y_fit[:,1])"
   ]
  },
  {
   "cell_type": "markdown",
   "metadata": {},
   "source": [
    "This looks much better than the logistic regression model. "
   ]
  },
  {
   "cell_type": "markdown",
   "metadata": {},
   "source": [
    "#### Intepret"
   ]
  },
  {
   "cell_type": "code",
   "execution_count": 242,
   "metadata": {
    "scrolled": false
   },
   "outputs": [
    {
     "data": {
      "text/html": [
       "<div>\n",
       "<style scoped>\n",
       "    .dataframe tbody tr th:only-of-type {\n",
       "        vertical-align: middle;\n",
       "    }\n",
       "\n",
       "    .dataframe tbody tr th {\n",
       "        vertical-align: top;\n",
       "    }\n",
       "\n",
       "    .dataframe thead th {\n",
       "        text-align: right;\n",
       "    }\n",
       "</style>\n",
       "<table border=\"1\" class=\"dataframe\">\n",
       "  <thead>\n",
       "    <tr style=\"text-align: right;\">\n",
       "      <th></th>\n",
       "      <th>cols</th>\n",
       "      <th>imp</th>\n",
       "    </tr>\n",
       "  </thead>\n",
       "  <tbody>\n",
       "    <tr>\n",
       "      <th>1380</th>\n",
       "      <td>edit</td>\n",
       "      <td>0.009468</td>\n",
       "    </tr>\n",
       "    <tr>\n",
       "      <th>4449</th>\n",
       "      <td>think</td>\n",
       "      <td>0.008569</td>\n",
       "    </tr>\n",
       "    <tr>\n",
       "      <th>2998</th>\n",
       "      <td>operator</td>\n",
       "      <td>0.006630</td>\n",
       "    </tr>\n",
       "    <tr>\n",
       "      <th>2511</th>\n",
       "      <td>like</td>\n",
       "      <td>0.005861</td>\n",
       "    </tr>\n",
       "    <tr>\n",
       "      <th>554</th>\n",
       "      <td>buff</td>\n",
       "      <td>0.005852</td>\n",
       "    </tr>\n",
       "    <tr>\n",
       "      <th>3135</th>\n",
       "      <td>people</td>\n",
       "      <td>0.005850</td>\n",
       "    </tr>\n",
       "    <tr>\n",
       "      <th>1816</th>\n",
       "      <td>game</td>\n",
       "      <td>0.005417</td>\n",
       "    </tr>\n",
       "    <tr>\n",
       "      <th>320</th>\n",
       "      <td>bad</td>\n",
       "      <td>0.005176</td>\n",
       "    </tr>\n",
       "    <tr>\n",
       "      <th>183</th>\n",
       "      <td>anyone</td>\n",
       "      <td>0.005130</td>\n",
       "    </tr>\n",
       "    <tr>\n",
       "      <th>2634</th>\n",
       "      <td>make</td>\n",
       "      <td>0.004992</td>\n",
       "    </tr>\n",
       "    <tr>\n",
       "      <th>1399</th>\n",
       "      <td>ela</td>\n",
       "      <td>0.004564</td>\n",
       "    </tr>\n",
       "    <tr>\n",
       "      <th>4826</th>\n",
       "      <td>want</td>\n",
       "      <td>0.004406</td>\n",
       "    </tr>\n",
       "    <tr>\n",
       "      <th>1790</th>\n",
       "      <td>fucking</td>\n",
       "      <td>0.004240</td>\n",
       "    </tr>\n",
       "    <tr>\n",
       "      <th>2881</th>\n",
       "      <td>nerf</td>\n",
       "      <td>0.004096</td>\n",
       "    </tr>\n",
       "    <tr>\n",
       "      <th>3520</th>\n",
       "      <td>recoil</td>\n",
       "      <td>0.004079</td>\n",
       "    </tr>\n",
       "  </tbody>\n",
       "</table>\n",
       "</div>"
      ],
      "text/plain": [
       "          cols       imp\n",
       "1380      edit  0.009468\n",
       "4449     think  0.008569\n",
       "2998  operator  0.006630\n",
       "2511      like  0.005861\n",
       "554       buff  0.005852\n",
       "3135    people  0.005850\n",
       "1816      game  0.005417\n",
       "320        bad  0.005176\n",
       "183     anyone  0.005130\n",
       "2634      make  0.004992\n",
       "1399       ela  0.004564\n",
       "4826      want  0.004406\n",
       "1790   fucking  0.004240\n",
       "2881      nerf  0.004096\n",
       "3520    recoil  0.004079"
      ]
     },
     "execution_count": 242,
     "metadata": {},
     "output_type": "execute_result"
    }
   ],
   "source": [
    "fi = pd.DataFrame({'cols':col_names, 'imp':rf.feature_importances_})\n",
    "fi = fi.sort_values('imp', ascending =False)[:15]\n",
    "fi"
   ]
  },
  {
   "cell_type": "markdown",
   "metadata": {},
   "source": [
    "Here are some most important words in the RF model. If I have more time, I will make some partial dependence plots to see how they influence the model. Here, I will simply calculate the popular percentage for posts contains above words for some intuition."
   ]
  },
  {
   "cell_type": "code",
   "execution_count": 269,
   "metadata": {
    "scrolled": true
   },
   "outputs": [
    {
     "name": "stdout",
     "output_type": "stream",
     "text": [
      "popular post %: 0.18809769521843825\n",
      "1. popular post % for posts including \"edit\": 0.10526315789473684\n",
      "2. popular post % for posts including \"think\": 0.2690177790731565\n",
      "3. popular post % for posts including \"operator\": 0.2694672131147541\n",
      "4. popular post % for posts including \"like\": 0.22811291015904858\n",
      "5. popular post % for posts including \"buff\": 0.3794392523364486\n"
     ]
    }
   ],
   "source": [
    "print('popular post %:', r6s.popular.mean())\n",
    "print('1. popular post % for posts including \"edit\":', r6s[r6s['selftext'].str.contains(\" edit \")].popular.mean())\n",
    "print('2. popular post % for posts including \"think\":', r6s[r6s['selftext'].str.contains(\" think \")].popular.mean())\n",
    "print('3. popular post % for posts including \"operator\":', r6s[r6s['selftext'].str.contains(\" operator \")].popular.mean())\n",
    "print('4. popular post % for posts including \"like\":', r6s[r6s['selftext'].str.contains(\" like \")].popular.mean())\n",
    "print('5. popular post % for posts including \"buff\":', r6s[r6s['selftext'].str.contains(\" buff \")].popular.mean())"
   ]
  },
  {
   "cell_type": "markdown",
   "metadata": {},
   "source": [
    "Here are some interesting things I noticed after investigating the posts with above words:\n",
    "1. Originally, I thought \"edit\" is important because usually, the author will edit the posts after there are some controversial comments, which might be a kind of data leakage because the poster won't edit the post to respond to some comments before its getting popular. However, according to above data, posts with \"edit\" has the less popular percentage.  \n",
    "2. The reason \"buff\" is important may indicate that players love to use and discuss buff. Buff is a term used in some video games to describe tools that increase in the power of a game element. We can also see \"nerf\" in the most important features, which means the decrease in power. Introducing new buff/nerf into the game and carefully designing the buff might be important for the product team. \n",
    "3. \"Operator\", or the character in the game is also an important term in the players' discussion. Rainbow 6 has several dozens of operators with varied gadget, armour, and speed. Players might be passionate about discussing how different operators perform in the game. "
   ]
  },
  {
   "cell_type": "markdown",
   "metadata": {},
   "source": [
    "### 3. Gradient Boosting "
   ]
  },
  {
   "cell_type": "code",
   "execution_count": 271,
   "metadata": {
    "scrolled": true
   },
   "outputs": [],
   "source": [
    "gb = GradientBoostingClassifier(n_estimators=10)\n",
    "gb.fit(train_data_features, y_train)\n",
    "y_fit_proba = gb.predict_proba(test_data_features)"
   ]
  },
  {
   "cell_type": "code",
   "execution_count": 272,
   "metadata": {
    "scrolled": true
   },
   "outputs": [
    {
     "name": "stdout",
     "output_type": "stream",
     "text": [
      "precision:   0.292\n",
      "recall:      0.316\n",
      "f1:          0.304\n",
      "True\\Predicted     0    1\n",
      "0               3869  844\n",
      "1                753  348\n"
     ]
    }
   ],
   "source": [
    "report_score(y_test, y_fit_proba, 0.2)"
   ]
  },
  {
   "cell_type": "markdown",
   "metadata": {},
   "source": [
    "This looks similar to RF baseline. Let's try tuning the parameters.  \n",
    "It takes too long to search parameters for 3 months data on gradient boosting, so I did randomized parameter search on 1 month data and get following optimal parameters:  \n",
    "Parameters: {'n_estimators': 100, 'min_samples_leaf': 25, 'max_features': 0.7}"
   ]
  },
  {
   "cell_type": "code",
   "execution_count": 277,
   "metadata": {},
   "outputs": [
    {
     "name": "stdout",
     "output_type": "stream",
     "text": [
      "precision:   0.301\n",
      "recall:      0.436\n",
      "f1:          0.356\n",
      "True\\Predicted     0     1\n",
      "0               3598  1115\n",
      "1                621   480\n"
     ]
    }
   ],
   "source": [
    "gb = GradientBoostingClassifier(n_estimators=100, min_samples_leaf = 25, max_features = 0.7)\n",
    "gb.fit(train_data_features, y_train)\n",
    "y_fit_proba = gb.predict_proba(test_data_features)\n",
    "report_score(y_test, y_fit_proba, 0.2)"
   ]
  },
  {
   "cell_type": "markdown",
   "metadata": {},
   "source": [
    "#### PR Curve"
   ]
  },
  {
   "cell_type": "code",
   "execution_count": 280,
   "metadata": {},
   "outputs": [
    {
     "data": {
      "image/png": "[encoded data removed]",
      "text/plain": [
       "<matplotlib.figure.Figure at 0x7fcc4c00a438>"
      ]
     },
     "metadata": {},
     "output_type": "display_data"
    }
   ],
   "source": [
    "p_r_curve(y_test, y_fit_proba[:,1])"
   ]
  },
  {
   "cell_type": "markdown",
   "metadata": {},
   "source": [
    "#### Interpret"
   ]
  },
  {
   "cell_type": "code",
   "execution_count": 278,
   "metadata": {},
   "outputs": [
    {
     "data": {
      "text/html": [
       "<div>\n",
       "<style scoped>\n",
       "    .dataframe tbody tr th:only-of-type {\n",
       "        vertical-align: middle;\n",
       "    }\n",
       "\n",
       "    .dataframe tbody tr th {\n",
       "        vertical-align: top;\n",
       "    }\n",
       "\n",
       "    .dataframe thead th {\n",
       "        text-align: right;\n",
       "    }\n",
       "</style>\n",
       "<table border=\"1\" class=\"dataframe\">\n",
       "  <thead>\n",
       "    <tr style=\"text-align: right;\">\n",
       "      <th></th>\n",
       "      <th>cols</th>\n",
       "      <th>imp</th>\n",
       "    </tr>\n",
       "  </thead>\n",
       "  <tbody>\n",
       "    <tr>\n",
       "      <th>1380</th>\n",
       "      <td>edit</td>\n",
       "      <td>0.043679</td>\n",
       "    </tr>\n",
       "    <tr>\n",
       "      <th>1790</th>\n",
       "      <td>fucking</td>\n",
       "      <td>0.018078</td>\n",
       "    </tr>\n",
       "    <tr>\n",
       "      <th>1681</th>\n",
       "      <td>fix</td>\n",
       "      <td>0.017476</td>\n",
       "    </tr>\n",
       "    <tr>\n",
       "      <th>4449</th>\n",
       "      <td>think</td>\n",
       "      <td>0.015828</td>\n",
       "    </tr>\n",
       "    <tr>\n",
       "      <th>1816</th>\n",
       "      <td>game</td>\n",
       "      <td>0.015599</td>\n",
       "    </tr>\n",
       "    <tr>\n",
       "      <th>4108</th>\n",
       "      <td>spawn</td>\n",
       "      <td>0.014629</td>\n",
       "    </tr>\n",
       "    <tr>\n",
       "      <th>554</th>\n",
       "      <td>buff</td>\n",
       "      <td>0.013266</td>\n",
       "    </tr>\n",
       "    <tr>\n",
       "      <th>1610</th>\n",
       "      <td>favela</td>\n",
       "      <td>0.012882</td>\n",
       "    </tr>\n",
       "    <tr>\n",
       "      <th>183</th>\n",
       "      <td>anyone</td>\n",
       "      <td>0.012785</td>\n",
       "    </tr>\n",
       "    <tr>\n",
       "      <th>4566</th>\n",
       "      <td>tried</td>\n",
       "      <td>0.012357</td>\n",
       "    </tr>\n",
       "    <tr>\n",
       "      <th>320</th>\n",
       "      <td>bad</td>\n",
       "      <td>0.012278</td>\n",
       "    </tr>\n",
       "    <tr>\n",
       "      <th>3227</th>\n",
       "      <td>please</td>\n",
       "      <td>0.011839</td>\n",
       "    </tr>\n",
       "    <tr>\n",
       "      <th>2877</th>\n",
       "      <td>needs</td>\n",
       "      <td>0.011309</td>\n",
       "    </tr>\n",
       "    <tr>\n",
       "      <th>220</th>\n",
       "      <td>arguably</td>\n",
       "      <td>0.010695</td>\n",
       "    </tr>\n",
       "    <tr>\n",
       "      <th>2511</th>\n",
       "      <td>like</td>\n",
       "      <td>0.010158</td>\n",
       "    </tr>\n",
       "  </tbody>\n",
       "</table>\n",
       "</div>"
      ],
      "text/plain": [
       "          cols       imp\n",
       "1380      edit  0.043679\n",
       "1790   fucking  0.018078\n",
       "1681       fix  0.017476\n",
       "4449     think  0.015828\n",
       "1816      game  0.015599\n",
       "4108     spawn  0.014629\n",
       "554       buff  0.013266\n",
       "1610    favela  0.012882\n",
       "183     anyone  0.012785\n",
       "4566     tried  0.012357\n",
       "320        bad  0.012278\n",
       "3227    please  0.011839\n",
       "2877     needs  0.011309\n",
       "220   arguably  0.010695\n",
       "2511      like  0.010158"
      ]
     },
     "execution_count": 278,
     "metadata": {},
     "output_type": "execute_result"
    }
   ],
   "source": [
    "fi = pd.DataFrame({'cols':col_names, 'imp':gb.feature_importances_})\n",
    "fi = fi.sort_values('imp', ascending =False)[:15]\n",
    "fi"
   ]
  },
  {
   "cell_type": "code",
   "execution_count": 284,
   "metadata": {},
   "outputs": [
    {
     "name": "stdout",
     "output_type": "stream",
     "text": [
      "popular post %: 0.18809769521843825\n",
      "1. popular post % for posts including \"edit\": 0.10526315789473684\n",
      "2. popular post % for posts including \"fucking\": 0.34808853118712274\n",
      "3. popular post % for posts including \"fix\": 0.11263972484952708\n",
      "4. popular post % for posts including \"favela\": 0.47619047619047616\n",
      "5. popular post % for posts including \"spawn\": 0.3463687150837989\n"
     ]
    }
   ],
   "source": [
    "print('popular post %:', r6s.popular.mean())\n",
    "print('1. popular post % for posts including \"edit\":', r6s[r6s['selftext'].str.contains(\" edit \")].popular.mean())\n",
    "print('2. popular post % for posts including \"fucking\":', r6s[r6s['selftext'].str.contains(\" fucking \")].popular.mean())\n",
    "print('3. popular post % for posts including \"fix\":', r6s[r6s['selftext'].str.contains(\" fix \")].popular.mean())\n",
    "print('4. popular post % for posts including \"favela\":', r6s[r6s['selftext'].str.contains(\" favela \")].popular.mean())\n",
    "print('5. popular post % for posts including \"spawn\":', r6s[r6s['selftext'].str.contains(\" spawn \")].popular.mean())"
   ]
  },
  {
   "cell_type": "markdown",
   "metadata": {},
   "source": [
    "Here are some interesting things I noticed after investigating the posts with above words:\n",
    "\n",
    "1. The word \"fucking\" shows a strong emotion of author, which might be controversial - maybe a lot of people agree with him/her and disagree with him/her, and thus it generates more popular posts.\n",
    "2. \"Spawn\" is also important here. In R6 subreddit, spawn probably appears as \"Spawn peeker\". This is a special term used by R6S players, meaning a player (defender) partially breaks open a window or door to get a cheap shot at the enemies. Some people think it's unfair, but it's not officially cheating, and maybe that's why it generates a lot of discussion around it. That might be something product team should look at.\n",
    "3. \"Favela\" is a map featured in a DLC for Tom Clancy's Rainbow Six Siege. This map seems also generate a lot of discussions, and maybe marketing team can look at it for future campaigns."
   ]
  },
  {
   "cell_type": "markdown",
   "metadata": {},
   "source": [
    "### 4. Naive Bayes"
   ]
  },
  {
   "cell_type": "code",
   "execution_count": 275,
   "metadata": {},
   "outputs": [
    {
     "name": "stdout",
     "output_type": "stream",
     "text": [
      "precision:   0.184\n",
      "recall:      0.229\n",
      "f1:          0.204\n",
      "True\\Predicted     0     1\n",
      "0               3599  1114\n",
      "1                849   252\n"
     ]
    }
   ],
   "source": [
    "clf = Pipeline([('vect', CountVectorizer()),\n",
    "                ('clf', MultinomialNB())])\n",
    "\n",
    "text_classifcation(clf, clean_X_train, clean_X_test, y_train, y_test)"
   ]
  },
  {
   "cell_type": "markdown",
   "metadata": {},
   "source": [
    "Since the baseline for Naive Bayes perform not so good, I decided not to tune parameter for it. "
   ]
  },
  {
   "cell_type": "markdown",
   "metadata": {},
   "source": [
    "## Winner -- Random Forest"
   ]
  },
  {
   "cell_type": "markdown",
   "metadata": {},
   "source": [
    "## Future work\n",
    "1. Use Word2vec as vectorizer. We chose countvectorizer as the vectorizing technique before because we want some insights, we can also try word2vec and see if it generates a higher accuracy. \n",
    "2. Create more features, for example, if the post contains a picture or video. ('is_self' column in the original dataset indicates if the post contains non-text component.)\n",
    "3. Here, we use a threshold of probability to solve the class imbalance. We can also try upsampling or downsampling.\n",
    "4. We can try more modeling techniques like SGD, SVM, XGBoost, etc. "
   ]
  },
  {
   "cell_type": "code",
   "execution_count": null,
   "metadata": {},
   "outputs": [],
   "source": []
  }
 ],
 "metadata": {
  "kernelspec": {
   "display_name": "Python 3",
   "language": "python",
   "name": "python3"
  },
  "language_info": {
   "codemirror_mode": {
    "name": "ipython",
    "version": 3
   },
   "file_extension": ".py",
   "mimetype": "text/x-python",
   "name": "python",
   "nbconvert_exporter": "python",
   "pygments_lexer": "ipython3",
   "version": "3.6.4"
  }
 },
 "nbformat": 4,
 "nbformat_minor": 2
}
